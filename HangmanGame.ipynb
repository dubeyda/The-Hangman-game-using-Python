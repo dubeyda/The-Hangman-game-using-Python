{
 "cells": [
  {
   "cell_type": "code",
   "execution_count": 8,
   "metadata": {},
   "outputs": [
    {
     "name": "stdout",
     "output_type": "stream",
     "text": [
      "Enter the name of the movie.abhd\n",
      "Enter your 1 guess : a\n",
      "Correct guess! 3 words left\n",
      "Enter your 1 guess : h\n",
      "Correct guess! 2 words left\n",
      "Enter your 1 guess : d\n",
      "Correct guess! 1 words left\n",
      "Enter your 1 guess : g\n",
      "Wrong Guess! 3 chances left\n",
      "Enter your 1 guess : b\n",
      "Correct guess! 0 words left\n",
      "You won the game!\n"
     ]
    }
   ],
   "source": [
    "\"\"\"Hangman Game\"\"\"\n",
    "movie= input(\"Enter the name of the movie : \")\n",
    "chances=len(movie)\n",
    "words=len(movie)\n",
    "\n",
    "while chances>=0:\n",
    "    guess=input(\"Enter your guess : \")\n",
    "    if guess in movie:\n",
    "        words=words-1\n",
    "        print(f\"Correct guess! {words} words left\")\n",
    "        if words==0:\n",
    "            print(\"You won the game!\")\n",
    "            break\n",
    "    else:\n",
    "        chances=chances-1\n",
    "        print(f\"Wrong Guess! {chances} chances left\")\n",
    "        if chances == 0:\n",
    "            print(\"You lost the game!\")\n",
    "            break\n"
   ]
  },
  {
   "cell_type": "code",
   "execution_count": null,
   "metadata": {},
   "outputs": [],
   "source": []
  }
 ],
 "metadata": {
  "kernelspec": {
   "display_name": "Python 3",
   "language": "python",
   "name": "python3"
  },
  "language_info": {
   "codemirror_mode": {
    "name": "ipython",
    "version": 3
   },
   "file_extension": ".py",
   "mimetype": "text/x-python",
   "name": "python",
   "nbconvert_exporter": "python",
   "pygments_lexer": "ipython3",
   "version": "3.8.5"
  }
 },
 "nbformat": 4,
 "nbformat_minor": 4
}
